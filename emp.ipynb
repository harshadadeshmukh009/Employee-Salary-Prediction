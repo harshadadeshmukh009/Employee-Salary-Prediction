{
 "cells": [
  {
   "cell_type": "code",
   "execution_count": 1,
   "id": "76d0d8cd-57c6-481c-b14e-4150d67a99b3",
   "metadata": {},
   "outputs": [],
   "source": [
    "import pandas as pd"
   ]
  },
  {
   "cell_type": "code",
   "execution_count": 2,
   "id": "a245def6-5841-438f-8532-4221b4bf6be2",
   "metadata": {},
   "outputs": [],
   "source": [
    "data = pd.read_csv(r\"C:\\Users\\harsh\\Downloads\\Salary Data.csv\")"
   ]
  },
  {
   "cell_type": "code",
   "execution_count": 3,
   "id": "7d366669-adca-4378-b8fb-92262fa42487",
   "metadata": {},
   "outputs": [
    {
     "data": {
      "text/html": [
       "<div>\n",
       "<style scoped>\n",
       "    .dataframe tbody tr th:only-of-type {\n",
       "        vertical-align: middle;\n",
       "    }\n",
       "\n",
       "    .dataframe tbody tr th {\n",
       "        vertical-align: top;\n",
       "    }\n",
       "\n",
       "    .dataframe thead th {\n",
       "        text-align: right;\n",
       "    }\n",
       "</style>\n",
       "<table border=\"1\" class=\"dataframe\">\n",
       "  <thead>\n",
       "    <tr style=\"text-align: right;\">\n",
       "      <th></th>\n",
       "      <th>Age</th>\n",
       "      <th>Gender</th>\n",
       "      <th>Education Level</th>\n",
       "      <th>Job Title</th>\n",
       "      <th>Years of Experience</th>\n",
       "      <th>Salary</th>\n",
       "    </tr>\n",
       "  </thead>\n",
       "  <tbody>\n",
       "    <tr>\n",
       "      <th>0</th>\n",
       "      <td>32.0</td>\n",
       "      <td>Male</td>\n",
       "      <td>Bachelor's</td>\n",
       "      <td>Software Engineer</td>\n",
       "      <td>5.0</td>\n",
       "      <td>90000.0</td>\n",
       "    </tr>\n",
       "    <tr>\n",
       "      <th>1</th>\n",
       "      <td>28.0</td>\n",
       "      <td>Female</td>\n",
       "      <td>Master's</td>\n",
       "      <td>Data Analyst</td>\n",
       "      <td>3.0</td>\n",
       "      <td>65000.0</td>\n",
       "    </tr>\n",
       "    <tr>\n",
       "      <th>2</th>\n",
       "      <td>45.0</td>\n",
       "      <td>Male</td>\n",
       "      <td>PhD</td>\n",
       "      <td>Senior Manager</td>\n",
       "      <td>15.0</td>\n",
       "      <td>150000.0</td>\n",
       "    </tr>\n",
       "    <tr>\n",
       "      <th>3</th>\n",
       "      <td>36.0</td>\n",
       "      <td>Female</td>\n",
       "      <td>Bachelor's</td>\n",
       "      <td>Sales Associate</td>\n",
       "      <td>7.0</td>\n",
       "      <td>60000.0</td>\n",
       "    </tr>\n",
       "    <tr>\n",
       "      <th>4</th>\n",
       "      <td>52.0</td>\n",
       "      <td>Male</td>\n",
       "      <td>Master's</td>\n",
       "      <td>Director</td>\n",
       "      <td>20.0</td>\n",
       "      <td>200000.0</td>\n",
       "    </tr>\n",
       "    <tr>\n",
       "      <th>...</th>\n",
       "      <td>...</td>\n",
       "      <td>...</td>\n",
       "      <td>...</td>\n",
       "      <td>...</td>\n",
       "      <td>...</td>\n",
       "      <td>...</td>\n",
       "    </tr>\n",
       "    <tr>\n",
       "      <th>370</th>\n",
       "      <td>35.0</td>\n",
       "      <td>Female</td>\n",
       "      <td>Bachelor's</td>\n",
       "      <td>Senior Marketing Analyst</td>\n",
       "      <td>8.0</td>\n",
       "      <td>85000.0</td>\n",
       "    </tr>\n",
       "    <tr>\n",
       "      <th>371</th>\n",
       "      <td>43.0</td>\n",
       "      <td>Male</td>\n",
       "      <td>Master's</td>\n",
       "      <td>Director of Operations</td>\n",
       "      <td>19.0</td>\n",
       "      <td>170000.0</td>\n",
       "    </tr>\n",
       "    <tr>\n",
       "      <th>372</th>\n",
       "      <td>29.0</td>\n",
       "      <td>Female</td>\n",
       "      <td>Bachelor's</td>\n",
       "      <td>Junior Project Manager</td>\n",
       "      <td>2.0</td>\n",
       "      <td>40000.0</td>\n",
       "    </tr>\n",
       "    <tr>\n",
       "      <th>373</th>\n",
       "      <td>34.0</td>\n",
       "      <td>Male</td>\n",
       "      <td>Bachelor's</td>\n",
       "      <td>Senior Operations Coordinator</td>\n",
       "      <td>7.0</td>\n",
       "      <td>90000.0</td>\n",
       "    </tr>\n",
       "    <tr>\n",
       "      <th>374</th>\n",
       "      <td>44.0</td>\n",
       "      <td>Female</td>\n",
       "      <td>PhD</td>\n",
       "      <td>Senior Business Analyst</td>\n",
       "      <td>15.0</td>\n",
       "      <td>150000.0</td>\n",
       "    </tr>\n",
       "  </tbody>\n",
       "</table>\n",
       "<p>375 rows × 6 columns</p>\n",
       "</div>"
      ],
      "text/plain": [
       "      Age  Gender Education Level                      Job Title  \\\n",
       "0    32.0    Male      Bachelor's              Software Engineer   \n",
       "1    28.0  Female        Master's                   Data Analyst   \n",
       "2    45.0    Male             PhD                 Senior Manager   \n",
       "3    36.0  Female      Bachelor's                Sales Associate   \n",
       "4    52.0    Male        Master's                       Director   \n",
       "..    ...     ...             ...                            ...   \n",
       "370  35.0  Female      Bachelor's       Senior Marketing Analyst   \n",
       "371  43.0    Male        Master's         Director of Operations   \n",
       "372  29.0  Female      Bachelor's         Junior Project Manager   \n",
       "373  34.0    Male      Bachelor's  Senior Operations Coordinator   \n",
       "374  44.0  Female             PhD        Senior Business Analyst   \n",
       "\n",
       "     Years of Experience    Salary  \n",
       "0                    5.0   90000.0  \n",
       "1                    3.0   65000.0  \n",
       "2                   15.0  150000.0  \n",
       "3                    7.0   60000.0  \n",
       "4                   20.0  200000.0  \n",
       "..                   ...       ...  \n",
       "370                  8.0   85000.0  \n",
       "371                 19.0  170000.0  \n",
       "372                  2.0   40000.0  \n",
       "373                  7.0   90000.0  \n",
       "374                 15.0  150000.0  \n",
       "\n",
       "[375 rows x 6 columns]"
      ]
     },
     "execution_count": 3,
     "metadata": {},
     "output_type": "execute_result"
    }
   ],
   "source": [
    "data"
   ]
  },
  {
   "cell_type": "code",
   "execution_count": 4,
   "id": "de4099d6-7fb5-45ae-bae2-1d8eb283b9f3",
   "metadata": {},
   "outputs": [
    {
     "data": {
      "text/plain": [
       "Age                    2\n",
       "Gender                 2\n",
       "Education Level        2\n",
       "Job Title              2\n",
       "Years of Experience    2\n",
       "Salary                 2\n",
       "dtype: int64"
      ]
     },
     "execution_count": 4,
     "metadata": {},
     "output_type": "execute_result"
    }
   ],
   "source": [
    "data.isna().sum()"
   ]
  },
  {
   "cell_type": "code",
   "execution_count": 5,
   "id": "497e868f-922d-4e9f-928a-c2fccef6a54d",
   "metadata": {},
   "outputs": [],
   "source": [
    "data['Age'] = data['Age'].fillna(data['Age'].mean())    \n",
    "data['Years of Experience'] = data['Years of Experience'].fillna(data['Years of Experience'].mean())  \n",
    "data['Salary'] = data['Salary'].fillna(data['Salary'].mean())"
   ]
  },
  {
   "cell_type": "code",
   "execution_count": 6,
   "id": "b351947a-e595-4073-86da-166b92ad9f61",
   "metadata": {},
   "outputs": [],
   "source": [
    "data['Gender'] = data['Gender'].fillna(data['Gender'].mode()[0])  \n",
    "data['Education Level'] = data['Education Level'].fillna(data['Education Level'].mode()[0])  \n",
    "data['Job Title'] = data['Job Title'].fillna(data['Job Title'].mode()[0]) \n"
   ]
  },
  {
   "cell_type": "code",
   "execution_count": 7,
   "id": "6e860ca6-51d8-4ccd-859a-39e77b1f5aa2",
   "metadata": {},
   "outputs": [
    {
     "data": {
      "text/plain": [
       "Age                    0\n",
       "Gender                 0\n",
       "Education Level        0\n",
       "Job Title              0\n",
       "Years of Experience    0\n",
       "Salary                 0\n",
       "dtype: int64"
      ]
     },
     "execution_count": 7,
     "metadata": {},
     "output_type": "execute_result"
    }
   ],
   "source": [
    "data.isna().sum()"
   ]
  },
  {
   "cell_type": "code",
   "execution_count": 8,
   "id": "b0ca4b75-4682-4630-bc64-d688afb74624",
   "metadata": {},
   "outputs": [
    {
     "name": "stdout",
     "output_type": "stream",
     "text": [
      "Age\n",
      "33.000000    24\n",
      "29.000000    23\n",
      "35.000000    22\n",
      "31.000000    21\n",
      "44.000000    21\n",
      "36.000000    20\n",
      "45.000000    17\n",
      "34.000000    17\n",
      "47.000000    15\n",
      "30.000000    15\n",
      "38.000000    15\n",
      "40.000000    13\n",
      "28.000000    13\n",
      "39.000000    12\n",
      "32.000000    12\n",
      "41.000000    12\n",
      "43.000000    12\n",
      "37.000000    12\n",
      "42.000000    11\n",
      "46.000000    10\n",
      "48.000000     9\n",
      "27.000000     9\n",
      "50.000000     8\n",
      "49.000000     8\n",
      "26.000000     7\n",
      "51.000000     5\n",
      "25.000000     4\n",
      "52.000000     3\n",
      "37.431635     2\n",
      "24.000000     1\n",
      "23.000000     1\n",
      "53.000000     1\n",
      "Name: count, dtype: int64\n"
     ]
    }
   ],
   "source": [
    "print(data.Age.value_counts())"
   ]
  },
  {
   "cell_type": "code",
   "execution_count": 9,
   "id": "3daff378-b0bd-4264-9e1d-4ac17f0c489c",
   "metadata": {},
   "outputs": [
    {
     "name": "stdout",
     "output_type": "stream",
     "text": [
      "Gender\n",
      "Male      196\n",
      "Female    179\n",
      "Name: count, dtype: int64\n"
     ]
    }
   ],
   "source": [
    "print(data.Gender.value_counts())"
   ]
  },
  {
   "cell_type": "code",
   "execution_count": 10,
   "id": "8a65f2e5-42f3-4fd0-b77c-ea3bbabda879",
   "metadata": {},
   "outputs": [
    {
     "name": "stdout",
     "output_type": "stream",
     "text": [
      "Education Level\n",
      "Bachelor's    226\n",
      "Master's       98\n",
      "PhD            51\n",
      "Name: count, dtype: int64\n"
     ]
    }
   ],
   "source": [
    "print(data['Education Level'].value_counts())"
   ]
  },
  {
   "cell_type": "code",
   "execution_count": 11,
   "id": "2dd5b4a2-afed-44e8-88ae-93b7efd9e88e",
   "metadata": {},
   "outputs": [
    {
     "name": "stdout",
     "output_type": "stream",
     "text": [
      "Job Title\n",
      "Director of Marketing             14\n",
      "Director of Operations            11\n",
      "Senior Business Analyst           10\n",
      "Senior Marketing Manager           9\n",
      "Senior Marketing Analyst           9\n",
      "                                  ..\n",
      "Junior Social Media Specialist     1\n",
      "Junior Operations Coordinator      1\n",
      "Senior HR Specialist               1\n",
      "Director of HR                     1\n",
      "Junior Financial Advisor           1\n",
      "Name: count, Length: 174, dtype: int64\n"
     ]
    }
   ],
   "source": [
    "print(data['Job Title'].value_counts())"
   ]
  },
  {
   "cell_type": "code",
   "execution_count": 12,
   "id": "7ba963a1-449b-4430-8f5f-3a1dab3ec608",
   "metadata": {},
   "outputs": [
    {
     "name": "stdout",
     "output_type": "stream",
     "text": [
      "Years of Experience\n",
      "2.000000     31\n",
      "3.000000     30\n",
      "8.000000     25\n",
      "9.000000     22\n",
      "4.000000     20\n",
      "7.000000     18\n",
      "16.000000    18\n",
      "10.000000    18\n",
      "5.000000     17\n",
      "15.000000    16\n",
      "19.000000    15\n",
      "12.000000    15\n",
      "20.000000    13\n",
      "21.000000    13\n",
      "14.000000    13\n",
      "18.000000    13\n",
      "6.000000     12\n",
      "1.500000     12\n",
      "13.000000    11\n",
      "11.000000    10\n",
      "22.000000     9\n",
      "1.000000      7\n",
      "17.000000     5\n",
      "25.000000     3\n",
      "0.000000      3\n",
      "23.000000     2\n",
      "10.030831     2\n",
      "0.500000      1\n",
      "24.000000     1\n",
      "Name: count, dtype: int64\n"
     ]
    }
   ],
   "source": [
    "print(data['Years of Experience'].value_counts())"
   ]
  },
  {
   "cell_type": "code",
   "execution_count": 13,
   "id": "31894270-2a9f-4860-aea9-72aa83412164",
   "metadata": {},
   "outputs": [
    {
     "data": {
      "image/png": "[encoded data removed]",
      "text/plain": [
       "<Figure size 640x480 with 1 Axes>"
      ]
     },
     "metadata": {},
     "output_type": "display_data"
    }
   ],
   "source": [
    "import matplotlib.pyplot as plt\n",
    "plt.boxplot(data['Age'])\n",
    "plt.show()"
   ]
  },
  {
   "cell_type": "code",
   "execution_count": 14,
   "id": "9f1e84e3-b192-4672-8e3f-5dfcaa02f89e",
   "metadata": {},
   "outputs": [
    {
     "data": {
      "image/png": "[encoded data removed]",
      "text/plain": [
       "<Figure size 640x480 with 1 Axes>"
      ]
     },
     "metadata": {},
     "output_type": "display_data"
    }
   ],
   "source": [
    "plt.boxplot(data['Years of Experience'])\n",
    "plt.show()"
   ]
  },
  {
   "cell_type": "code",
   "execution_count": 15,
   "id": "284811f0-a3da-43fb-ba37-2471e5fb54ae",
   "metadata": {},
   "outputs": [],
   "source": [
    "x = data.drop(columns = ['Salary'])\n",
    "y = data['Salary']"
   ]
  },
  {
   "cell_type": "code",
   "execution_count": 16,
   "id": "f4d107c0-bb3b-47fa-9e47-a99c0aa9c80d",
   "metadata": {},
   "outputs": [
    {
     "data": {
      "text/html": [
       "<div>\n",
       "<style scoped>\n",
       "    .dataframe tbody tr th:only-of-type {\n",
       "        vertical-align: middle;\n",
       "    }\n",
       "\n",
       "    .dataframe tbody tr th {\n",
       "        vertical-align: top;\n",
       "    }\n",
       "\n",
       "    .dataframe thead th {\n",
       "        text-align: right;\n",
       "    }\n",
       "</style>\n",
       "<table border=\"1\" class=\"dataframe\">\n",
       "  <thead>\n",
       "    <tr style=\"text-align: right;\">\n",
       "      <th></th>\n",
       "      <th>Age</th>\n",
       "      <th>Gender</th>\n",
       "      <th>Education Level</th>\n",
       "      <th>Job Title</th>\n",
       "      <th>Years of Experience</th>\n",
       "    </tr>\n",
       "  </thead>\n",
       "  <tbody>\n",
       "    <tr>\n",
       "      <th>0</th>\n",
       "      <td>32.0</td>\n",
       "      <td>Male</td>\n",
       "      <td>Bachelor's</td>\n",
       "      <td>Software Engineer</td>\n",
       "      <td>5.0</td>\n",
       "    </tr>\n",
       "    <tr>\n",
       "      <th>1</th>\n",
       "      <td>28.0</td>\n",
       "      <td>Female</td>\n",
       "      <td>Master's</td>\n",
       "      <td>Data Analyst</td>\n",
       "      <td>3.0</td>\n",
       "    </tr>\n",
       "    <tr>\n",
       "      <th>2</th>\n",
       "      <td>45.0</td>\n",
       "      <td>Male</td>\n",
       "      <td>PhD</td>\n",
       "      <td>Senior Manager</td>\n",
       "      <td>15.0</td>\n",
       "    </tr>\n",
       "    <tr>\n",
       "      <th>3</th>\n",
       "      <td>36.0</td>\n",
       "      <td>Female</td>\n",
       "      <td>Bachelor's</td>\n",
       "      <td>Sales Associate</td>\n",
       "      <td>7.0</td>\n",
       "    </tr>\n",
       "    <tr>\n",
       "      <th>4</th>\n",
       "      <td>52.0</td>\n",
       "      <td>Male</td>\n",
       "      <td>Master's</td>\n",
       "      <td>Director</td>\n",
       "      <td>20.0</td>\n",
       "    </tr>\n",
       "    <tr>\n",
       "      <th>...</th>\n",
       "      <td>...</td>\n",
       "      <td>...</td>\n",
       "      <td>...</td>\n",
       "      <td>...</td>\n",
       "      <td>...</td>\n",
       "    </tr>\n",
       "    <tr>\n",
       "      <th>370</th>\n",
       "      <td>35.0</td>\n",
       "      <td>Female</td>\n",
       "      <td>Bachelor's</td>\n",
       "      <td>Senior Marketing Analyst</td>\n",
       "      <td>8.0</td>\n",
       "    </tr>\n",
       "    <tr>\n",
       "      <th>371</th>\n",
       "      <td>43.0</td>\n",
       "      <td>Male</td>\n",
       "      <td>Master's</td>\n",
       "      <td>Director of Operations</td>\n",
       "      <td>19.0</td>\n",
       "    </tr>\n",
       "    <tr>\n",
       "      <th>372</th>\n",
       "      <td>29.0</td>\n",
       "      <td>Female</td>\n",
       "      <td>Bachelor's</td>\n",
       "      <td>Junior Project Manager</td>\n",
       "      <td>2.0</td>\n",
       "    </tr>\n",
       "    <tr>\n",
       "      <th>373</th>\n",
       "      <td>34.0</td>\n",
       "      <td>Male</td>\n",
       "      <td>Bachelor's</td>\n",
       "      <td>Senior Operations Coordinator</td>\n",
       "      <td>7.0</td>\n",
       "    </tr>\n",
       "    <tr>\n",
       "      <th>374</th>\n",
       "      <td>44.0</td>\n",
       "      <td>Female</td>\n",
       "      <td>PhD</td>\n",
       "      <td>Senior Business Analyst</td>\n",
       "      <td>15.0</td>\n",
       "    </tr>\n",
       "  </tbody>\n",
       "</table>\n",
       "<p>375 rows × 5 columns</p>\n",
       "</div>"
      ],
      "text/plain": [
       "      Age  Gender Education Level                      Job Title  \\\n",
       "0    32.0    Male      Bachelor's              Software Engineer   \n",
       "1    28.0  Female        Master's                   Data Analyst   \n",
       "2    45.0    Male             PhD                 Senior Manager   \n",
       "3    36.0  Female      Bachelor's                Sales Associate   \n",
       "4    52.0    Male        Master's                       Director   \n",
       "..    ...     ...             ...                            ...   \n",
       "370  35.0  Female      Bachelor's       Senior Marketing Analyst   \n",
       "371  43.0    Male        Master's         Director of Operations   \n",
       "372  29.0  Female      Bachelor's         Junior Project Manager   \n",
       "373  34.0    Male      Bachelor's  Senior Operations Coordinator   \n",
       "374  44.0  Female             PhD        Senior Business Analyst   \n",
       "\n",
       "     Years of Experience  \n",
       "0                    5.0  \n",
       "1                    3.0  \n",
       "2                   15.0  \n",
       "3                    7.0  \n",
       "4                   20.0  \n",
       "..                   ...  \n",
       "370                  8.0  \n",
       "371                 19.0  \n",
       "372                  2.0  \n",
       "373                  7.0  \n",
       "374                 15.0  \n",
       "\n",
       "[375 rows x 5 columns]"
      ]
     },
     "execution_count": 16,
     "metadata": {},
     "output_type": "execute_result"
    }
   ],
   "source": [
    "x"
   ]
  },
  {
   "cell_type": "code",
   "execution_count": 17,
   "id": "c37ed412-984b-4b9d-ba59-26c06d589467",
   "metadata": {},
   "outputs": [
    {
     "data": {
      "text/plain": [
       "0       90000.0\n",
       "1       65000.0\n",
       "2      150000.0\n",
       "3       60000.0\n",
       "4      200000.0\n",
       "         ...   \n",
       "370     85000.0\n",
       "371    170000.0\n",
       "372     40000.0\n",
       "373     90000.0\n",
       "374    150000.0\n",
       "Name: Salary, Length: 375, dtype: float64"
      ]
     },
     "execution_count": 17,
     "metadata": {},
     "output_type": "execute_result"
    }
   ],
   "source": [
    "y"
   ]
  },
  {
   "cell_type": "code",
   "execution_count": 18,
   "id": "655ac463-82a3-47ce-a66a-3d4be8c24c7f",
   "metadata": {},
   "outputs": [
    {
     "name": "stdout",
     "output_type": "stream",
     "text": [
      "\n",
      " LinearRegression Performance:\n",
      "  MAE:   10545.32\n",
      "  MSE:   210546274.06\n",
      "  RMSE:  14510.21\n",
      "  R²:    0.9018\n",
      "\n",
      " RandomForest Performance:\n",
      "  MAE:   10209.04\n",
      "  MSE:   211098994.39\n",
      "  RMSE:  14529.25\n",
      "  R²:    0.9015\n",
      "\n",
      " KNN Performance:\n",
      "  MAE:   9855.48\n",
      "  MSE:   178285185.37\n",
      "  RMSE:  13352.35\n",
      "  R²:    0.9169\n",
      "\n",
      " GradientBoosting Performance:\n",
      "  MAE:   9380.98\n",
      "  MSE:   141735789.82\n",
      "  RMSE:  11905.28\n",
      "  R²:    0.9339\n"
     ]
    }
   ],
   "source": [
    "from sklearn.pipeline import Pipeline\n",
    "from sklearn.model_selection import train_test_split\n",
    "from sklearn.metrics import mean_absolute_error, mean_squared_error, r2_score\n",
    "from sklearn.linear_model import LinearRegression\n",
    "from sklearn.ensemble import RandomForestRegressor, GradientBoostingRegressor\n",
    "from sklearn.neighbors import KNeighborsRegressor\n",
    "from sklearn.compose import ColumnTransformer\n",
    "from sklearn.preprocessing import MinMaxScaler, OneHotEncoder\n",
    "import numpy as np\n",
    "import pandas as pd\n",
    "\n",
    "numerical_cols = ['Age', 'Years of Experience']  \n",
    "categorical_cols = ['Education Level', 'Gender', 'Job Title'] \n",
    "\n",
    "X_train, X_test, y_train, y_test = train_test_split(x, y, test_size=0.2, random_state=22)\n",
    "\n",
    "preprocessor = ColumnTransformer([\n",
    "    ('num', MinMaxScaler(), numerical_cols),\n",
    "    ('cat', OneHotEncoder(handle_unknown='ignore'), categorical_cols)\n",
    "])\n",
    "\n",
    "# models\n",
    "models = {\n",
    "    \"LinearRegression\": LinearRegression(),\n",
    "    \"RandomForest\": RandomForestRegressor(random_state=22),\n",
    "    \"KNN\": KNeighborsRegressor(),\n",
    "    \"GradientBoosting\": GradientBoostingRegressor(random_state=22)\n",
    "}\n",
    "\n",
    "results = {}\n",
    "\n",
    "for name, model in models.items():\n",
    "    pipe = Pipeline([\n",
    "        ('preprocess', preprocessor),\n",
    "        ('model', model)\n",
    "    ])\n",
    "    \n",
    "    pipe.fit(X_train, y_train)\n",
    "    y_pred = pipe.predict(X_test)\n",
    "\n",
    "    mae = mean_absolute_error(y_test, y_pred)\n",
    "    mse = mean_squared_error(y_test, y_pred)\n",
    "    rmse = np.sqrt(mse)\n",
    "    r2 = r2_score(y_test, y_pred)\n",
    "\n",
    "    results[name] = {\n",
    "        \"MAE\": mae,\n",
    "        \"MSE\": mse,\n",
    "        \"RMSE\": rmse,\n",
    "        \"R²\": r2\n",
    "    }\n",
    "\n",
    "    print(f\"\\n {name} Performance:\")\n",
    "    print(f\"  MAE:   {mae:.2f}\")\n",
    "    print(f\"  MSE:   {mse:.2f}\")\n",
    "    print(f\"  RMSE:  {rmse:.2f}\")\n",
    "    print(f\"  R²:    {r2:.4f}\")\n"
   ]
  },
  {
   "cell_type": "code",
   "execution_count": 19,
   "id": "6df365dc-cd03-40ff-93e7-40d261cead67",
   "metadata": {},
   "outputs": [
    {
     "data": {
      "image/png": "[encoded data removed]",
      "text/plain": [
       "<Figure size 1000x600 with 1 Axes>"
      ]
     },
     "metadata": {},
     "output_type": "display_data"
    },
    {
     "data": {
      "image/png": "[encoded data removed]",
      "text/plain": [
       "<Figure size 1000x600 with 1 Axes>"
      ]
     },
     "metadata": {},
     "output_type": "display_data"
    },
    {
     "data": {
      "image/png": "[encoded data removed]",
      "text/plain": [
       "<Figure size 1000x600 with 1 Axes>"
      ]
     },
     "metadata": {},
     "output_type": "display_data"
    }
   ],
   "source": [
    "    results_df = pd.DataFrame(results).T\n",
    "\n",
    "    # Plot R² score\n",
    "    plt.figure(figsize=(10, 6))\n",
    "    results_df[\"R²\"].sort_values().plot(kind='barh', color='skyblue')\n",
    "    plt.title(\"R² Score Comparison Across Models\")\n",
    "    plt.xlabel(\"R² Score\")\n",
    "    plt.grid(axis='x')\n",
    "    plt.xlim(0, 1)\n",
    "    plt.tight_layout()\n",
    "    plt.show()\n",
    "\n",
    "    # Plot RMSE\n",
    "    plt.figure(figsize=(10, 6))\n",
    "    results_df[\"RMSE\"].sort_values(ascending=False).plot(kind='barh', color='salmon')\n",
    "    plt.title(\"RMSE Comparison Across Models\")\n",
    "    plt.xlabel(\"Root Mean Squared Error\")\n",
    "    plt.grid(axis='x')\n",
    "    plt.tight_layout()\n",
    "    plt.show()\n",
    "\n",
    "    # Plot MAE\n",
    "    plt.figure(figsize=(10, 6))\n",
    "    results_df[\"MAE\"].sort_values(ascending=False).plot(kind='barh', color='lightgreen')\n",
    "    plt.title(\"MAE Comparison Across Models\")\n",
    "    plt.xlabel(\"Mean Absolute Error\")\n",
    "    plt.grid(axis='x')\n",
    "    plt.tight_layout()\n",
    "    plt.show()"
   ]
  },
  {
   "cell_type": "code",
   "execution_count": 20,
   "id": "84035bb2-c526-417f-a879-44b1a26a2f37",
   "metadata": {},
   "outputs": [
    {
     "name": "stdout",
     "output_type": "stream",
     "text": [
      "LinearRegression: R² = 0.9018\n",
      "RandomForest: R² = 0.9015\n",
      "KNN: R² = 0.9169\n",
      "GradientBoosting: R² = 0.9330\n",
      "\n",
      "✅ Best model: GradientBoosting with R² score 0.9330\n",
      "✅ Saved best model as best_regressor.pkl\n"
     ]
    }
   ],
   "source": [
    "from sklearn.linear_model import LinearRegression\n",
    "from sklearn.ensemble import RandomForestRegressor, GradientBoostingRegressor\n",
    "from sklearn.neighbors import KNeighborsRegressor\n",
    "from sklearn.model_selection import train_test_split\n",
    "from sklearn.metrics import r2_score\n",
    "from sklearn.compose import ColumnTransformer\n",
    "from sklearn.preprocessing import OneHotEncoder, MinMaxScaler\n",
    "from sklearn.pipeline import Pipeline\n",
    "import joblib\n",
    "import numpy as np\n",
    "import pandas as pd\n",
    "\n",
    "numerical_cols = x.select_dtypes(include=['int64', 'float64']).columns.tolist()\n",
    "categorical_cols = x.select_dtypes(include=['object']).columns.tolist()\n",
    "\n",
    "X_train, X_test, y_train, y_test = train_test_split(x, y, test_size=0.2, random_state=22)\n",
    "\n",
    "preprocessor = ColumnTransformer(transformers=[\n",
    "    ('num', MinMaxScaler(), numerical_cols),\n",
    "    ('cat', OneHotEncoder(handle_unknown='ignore'), categorical_cols)\n",
    "])\n",
    "\n",
    "models = {\n",
    "    \"LinearRegression\": LinearRegression(),\n",
    "    \"RandomForest\": RandomForestRegressor(random_state=22),\n",
    "    \"KNN\": KNeighborsRegressor(),\n",
    "    \"GradientBoosting\": GradientBoostingRegressor(random_state=22)\n",
    "}\n",
    "\n",
    "results = {}\n",
    "\n",
    "for name, model in models.items():\n",
    "    pipe = Pipeline(steps=[\n",
    "        ('preprocessor', preprocessor),\n",
    "        ('regressor', model)\n",
    "    ])\n",
    "    \n",
    "    pipe.fit(X_train, y_train)\n",
    "    preds = pipe.predict(X_test)\n",
    "    r2 = r2_score(y_test, preds)\n",
    "    results[name] = (r2, pipe)\n",
    "    print(f\"{name}: R² = {r2:.4f}\")\n",
    "\n",
    "best_model_name = max(results, key=lambda k: results[k][0])\n",
    "best_r2, best_pipeline = results[best_model_name]\n",
    "\n",
    "print(f\"\\n✅ Best model: {best_model_name} with R² score {best_r2:.4f}\")\n",
    "\n",
    "joblib.dump(best_pipeline, \"best_regressor.pkl\")\n",
    "print(\"✅ Saved best model as best_regressor.pkl\")\n"
   ]
  },
  {
   "cell_type": "code",
   "execution_count": 21,
   "id": "9c419a63-c13c-4c1e-ba4f-aabfc01820d5",
   "metadata": {},
   "outputs": [
    {
     "name": "stdout",
     "output_type": "stream",
     "text": [
      "Overwriting app.py\n"
     ]
    }
   ],
   "source": [
    "%%writefile app.py\n",
    "import streamlit as st\n",
    "import pandas as pd\n",
    "import joblib\n",
    "import numpy as np\n",
    "\n",
    "st.set_page_config(page_title=\"Salary Predictor\", layout=\"centered\")\n",
    "st.title(\"💼 Employee Salary Predictor\")\n",
    "\n",
    "model = joblib.load(\"best_regressor.pkl\")\n",
    "\n",
    "template_columns = [\"Age\", \"Years of Experience\", \"Gender\", \"Education Level\", \"Job Title\"]\n",
    "\n",
    "column_mapping = {\n",
    "    \"age\": \"Age\",\n",
    "    \"years of experience\": \"Years of Experience\",\n",
    "    \"gender\": \"Gender\",\n",
    "    \"education\": \"Education Level\",\n",
    "    \"education level\": \"Education Level\",\n",
    "    \"job title\": \"Job Title\",\n",
    "    \"job\": \"Job Title\"\n",
    "}\n",
    "\n",
    "def clean_columns(df):\n",
    "    df.columns = [column_mapping.get(col.strip().lower(), col.strip()) for col in df.columns]\n",
    "    return df\n",
    "\n",
    "st.sidebar.title(\"Choose Input Type\")\n",
    "input_mode = st.sidebar.radio(\"Select Input Method:\", [\"🔢 Manual Entry\", \"📁 Batch Upload (CSV)\"])\n",
    "\n",
    "# === Manual Input ===\n",
    "if input_mode == \"🔢 Manual Entry\":\n",
    "    st.header(\"📋 Enter Employee Details\")\n",
    "\n",
    "    try:\n",
    "        data = pd.read_csv(r\"C:\\Users\\harsh\\Downloads\\salary_predictor_gui\\Salary Data.csv\")\n",
    "        job_titles = sorted(data[\"Job Title\"].dropna().unique().tolist())\n",
    "    except Exception as e:\n",
    "        st.warning(\"⚠️ Could not load Job Titles from CSV. Using fallback list.\")\n",
    "        job_titles = [\"Software Engineer\", \"Data Analyst\", \"Manager\", \"Director\", \"Sales Associate\"]\n",
    "\n",
    "    # UI inputs\n",
    "    age = st.slider(\"Age\", 18, 65, 30)\n",
    "    experience = st.slider(\"Years of Experience\", 0, 25, 5)\n",
    "    education = st.selectbox(\"Education Level\", [\"Bachelor's\", \"Master's\", \"PhD\"])\n",
    "    job_title = st.selectbox(\"Job Title\", job_titles)\n",
    "    gender = st.radio(\"Gender\", [\"Male\", \"Female\"])\n",
    "\n",
    "    # Create DataFrame for prediction\n",
    "    input_df = pd.DataFrame([{\n",
    "        \"Age\": age,\n",
    "        \"Years of Experience\": experience,\n",
    "        \"Gender\": gender,\n",
    "        \"Education Level\": education,\n",
    "        \"Job Title\": job_title\n",
    "    }])\n",
    "\n",
    "    if st.button(\"Predict Salary\"):\n",
    "        prediction = model.predict(input_df)[0]\n",
    "        st.success(f\"💰 Estimated Salary: ₹{prediction:,.2f}\")\n",
    "\n",
    "# === Batch Upload ===\n",
    "else:\n",
    "    st.header(\"📁 Upload CSV for Batch Salary Prediction\")\n",
    "\n",
    "    uploaded_file = st.file_uploader(\"Upload your CSV file\", type=[\"csv\"])\n",
    "\n",
    "    if uploaded_file is not None:\n",
    "        df = pd.read_csv(uploaded_file)\n",
    "        df = clean_columns(df)\n",
    "\n",
    "        st.write(\"📄 Uploaded Data Preview:\")\n",
    "        st.dataframe(df.head())\n",
    "\n",
    "        # Check for required columns\n",
    "        missing_cols = set(template_columns) - set(df.columns)\n",
    "\n",
    "        if missing_cols:\n",
    "            st.error(f\"⚠️ Prediction failed: columns are missing: {missing_cols}\")\n",
    "            st.info(\"Check if the uploaded CSV matches the expected format used during training.\")\n",
    "        else:\n",
    "            try:\n",
    "                predictions = model.predict(df)\n",
    "                df[\"Predicted Salary\"] = predictions\n",
    "                st.success(\"✅ Salary prediction complete!\")\n",
    "                st.dataframe(df)\n",
    "\n",
    "                # CSV download\n",
    "                csv = df.to_csv(index=False).encode('utf-8')\n",
    "                st.download_button(\"📥 Download Results\", csv, \"predicted_salaries.csv\", \"text/csv\")\n",
    "\n",
    "            except Exception as e:\n",
    "                st.error(f\"⚠️ Prediction failed: {e}\")\n",
    "                st.info(\"Ensure data is clean and consistent with the training set.\")\n"
   ]
  },
  {
   "cell_type": "code",
   "execution_count": null,
   "id": "c6b5cd12-8010-4a73-aea6-3a3bae78ae54",
   "metadata": {},
   "outputs": [],
   "source": [
    "!streamlit run app.py"
   ]
  },
  {
   "cell_type": "code",
   "execution_count": null,
   "id": "f8fc91ae-79bb-4ee0-ab96-85a3d21fdc49",
   "metadata": {},
   "outputs": [],
   "source": []
  }
 ],
 "metadata": {
  "kernelspec": {
   "display_name": "Python 3 (ipykernel)",
   "language": "python",
   "name": "python3"
  },
  "language_info": {
   "codemirror_mode": {
    "name": "ipython",
    "version": 3
   },
   "file_extension": ".py",
   "mimetype": "text/x-python",
   "name": "python",
   "nbconvert_exporter": "python",
   "pygments_lexer": "ipython3",
   "version": "3.12.3"
  }
 },
 "nbformat": 4,
 "nbformat_minor": 5
}
